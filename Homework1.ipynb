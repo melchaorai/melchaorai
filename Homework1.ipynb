{
  "nbformat": 4,
  "nbformat_minor": 0,
  "metadata": {
    "colab": {
      "name": "Homework1.ipynb",
      "provenance": [],
      "collapsed_sections": [
        "errSXAd1k3aZ"
      ],
      "toc_visible": true,
      "include_colab_link": true
    },
    "kernelspec": {
      "name": "python3",
      "display_name": "Python 3"
    },
    "language_info": {
      "name": "python"
    }
  },
  "cells": [
    {
      "cell_type": "markdown",
      "metadata": {
        "id": "view-in-github",
        "colab_type": "text"
      },
      "source": [
        "<a href=\"https://colab.research.google.com/github/melchaorai/melchaorai/blob/main/Homework1.ipynb\" target=\"_parent\"><img src=\"https://colab.research.google.com/assets/colab-badge.svg\" alt=\"Open In Colab\"/></a>"
      ]
    },
    {
      "cell_type": "markdown",
      "metadata": {
        "id": "09-jgAlCo5hR"
      },
      "source": [
        "# การบ้านสัปดาห์ที่ 1\n",
        "- ความเข้าใจพื้นฐานเรื่องภาพดิจิตอลสำหรับวิชาการประมวลผลภาพ เช่น pixel color, image size, type of image\n",
        "- การอ่านไฟล์ภาพ (read image file) มาเป็นข้อมูลดิจิตอล"
      ]
    },
    {
      "cell_type": "markdown",
      "metadata": {
        "id": "BU_mHoWykxc_"
      },
      "source": [
        "## แบบฝึกหัดที่ 1.1\n",
        "\n",
        "**วัตถุประสงค์**\n",
        "- เพื่อเป็นการทำความเข้าใจว่าภาพดิจิตอลก็คือข้อมูล array ของตัวเลขที่ถูกนำมาแสดงผลผ่านหน้าจอเท่านั้น\n",
        "\n",
        "\n",
        "**โจทย์:**\n",
        "\n",
        "- รันโปรแกรมต่อไปนี้แล้วสังเกตผล\n",
        "- แก้ไขหรือเพิ่มเติมโค๊ดเพื่อให้ได้ผลลัพธ์ดังภาพที่กำหนด\n",
        "\n",
        "\n",
        "<img align=\"left\" width=\"100\" height=\"100\" src=\"https://github.com/jbinteam/010723305/blob/main/images/week1_output_sample.png?raw=true\">"
      ]
    },
    {
      "cell_type": "code",
      "metadata": {
        "id": "LvhU4txnpOoo"
      },
      "source": [
        "import numpy as np #เรียกใช้งาน library numpy โดยหลังจากนี้จะเรียกใช้ด้วยการพิมพ์สั้นๆแค่ np\n",
        "from PIL import Image #เรียกใช้งาน Image จาก library PIL\n",
        "from matplotlib import pyplot as plt #เรียกใช้งาน pyplot จาก matplotlib โดยหลังจากนี้จะเรียกใช้ด้วยการพิมพ์สั้นๆแค่ plt\n",
        "\n",
        "from skimage import io as ski_io\n",
        "import cv2\n",
        "import numpy as np\n",
        "from skimage.util import img_as_ubyte\n"
      ],
      "execution_count": 1,
      "outputs": []
    },
    {
      "cell_type": "code",
      "metadata": {
        "id": "W-HQmKXmpTkP",
        "colab": {
          "base_uri": "https://localhost:8080/",
          "height": 468
        },
        "outputId": "f5ed49d6-c1fd-4658-a093-c7744680e92f"
      },
      "source": [
        "width, height = 100, 100 #กำหนดขนาดของข้อมูล\n",
        "data = np.zeros((height, width, 3), dtype=np.uint8) #สร้างตัวแปรที่ชื่อว่า data เพื่อเก็บค่าของตัวเลข\n",
        "\n",
        "print(\"data size:\",data.size)\n",
        "\n",
        "######## แก้ไข หรือ เพิ่มเติมโปรแกรมลงในโค๊ดด้านล่าง #######\n",
        "\n",
        "\n",
        "\n",
        "data[0:20, 0:20] = [255, 0, 0] #แดงซ้าย\n",
        "data[0:20, 40:60] = [255, 0, 0] #แดงกลาง\n",
        "data[0:20, 80:100] = [255, 0, 0] #แดงขวา\n",
        "\n",
        "data[40:60, 0:20] = [0, 255, 0] #เขียวซ้าย\n",
        "data[35:65, 35:65] = [0, 255, 0] #เขียวกลาง\n",
        "data[40:60, 80:100] = [0, 255, 0] #เขียวขวา\n",
        "\n",
        "data[80:100, 80:100] = [0, 0, 255] #น้ำเงินขวา\n",
        "data[80:100, 40:60] = [0, 0, 255] #น้ำเงินกลาง\n",
        "data[80:100, 0:20] = [0, 0, 255] #น้ำเงินซ้าย\n",
        "\n",
        "\n",
        "\n",
        "####################################################\n",
        "\n",
        "img = Image.fromarray(data, 'RGB') #แปลงข้อมูลตัวเลขเป็นข้อมูลภาพประเภท RGB\n",
        "print(\"image size:\",img.size)\n",
        "\n",
        "plt.imshow(img)\n",
        "plt.show()"
      ],
      "execution_count": 31,
      "outputs": [
        {
          "output_type": "stream",
          "name": "stdout",
          "text": [
            "data size: 30000\n",
            "image size: (100, 100)\n"
          ]
        },
        {
          "output_type": "display_data",
          "data": {
            "text/plain": [
              "<Figure size 640x480 with 1 Axes>"
            ],
            "image/png": "[encoded data removed]"
          },
          "metadata": {}
        }
      ]
    },
    {
      "cell_type": "markdown",
      "metadata": {
        "id": "errSXAd1k3aZ"
      },
      "source": [
        "## แบบฝึกหัดที่ 1.2\n",
        "\n",
        "**วัตถุประสงค์**\n",
        "- เพื่อเป็นการทำความเข้าใจว่าภาพดิจิตอลก็คือข้อมูล array ของตัวเลขที่ถูกนำมาแสดงผลผ่านหน้าจอเท่านั้น (ต่อ)\n",
        "\n",
        "**โจทย์:**\n",
        "\n",
        "ให้นักศึกษาสังเกตผลลัพธ์จากการ run โค๊ดด้านล่างที่เป็นการนำข้อมูล array มาต่อกันก่อนที่จะแสดงผลแล้วตอบคำถามต่อไปนี้\n",
        "- ตรวจสอบขนาดของภาพหลังจากการใช้คำสั่ง *np.hstack((a,b))*\n",
        "- ลองเปลี่ยนคำสั่ง *np.hstack((a,b))* เป็น *np.vstack((a,b))* ตรวจสอบขนาดภาพอีกครั้ง"
      ]
    },
    {
      "cell_type": "code",
      "metadata": {
        "id": "IDmjUfW1pt7o",
        "colab": {
          "base_uri": "https://localhost:8080/",
          "height": 312
        },
        "outputId": "4505f348-60fe-4888-f1ae-44bd691924d5"
      },
      "source": [
        "stack_data=np.hstack((data,data))\n",
        "#stack_data=np.vstack((data,data))\n",
        "\n",
        "images = Image.fromarray(stack_data, 'RGB')\n",
        "\n",
        "#print(\"stack images:\",images.size)\n",
        "\n",
        "plt.imshow(images)\n",
        "plt.show()"
      ],
      "execution_count": 34,
      "outputs": [
        {
          "output_type": "display_data",
          "data": {
            "text/plain": [
              "<Figure size 640x480 with 1 Axes>"
            ],
            "image/png": "[encoded data removed]"
          },
          "metadata": {}
        }
      ]
    },
    {
      "cell_type": "markdown",
      "metadata": {
        "id": "NQASscRHk7jA"
      },
      "source": [
        "## แบบฝึกหัดที่ 1.3\n",
        "\n",
        "**วัตถุประสงค์**\n",
        "- เรียนรู้การ load ภาพตระกูล .jpg หรือ .png เข้ามาเป็นข้อมูลก่อนนำไปใช้ในการประมวลผล\n",
        "\n",
        "**คำถาม:**\n",
        "- การ load ภาพด้วย library จาก opencv และ load ภาพด้วย library จาก Pillow  ต่างกันหรือไม่ อย่างไรจงอธิบาย"
      ]
    },
    {
      "cell_type": "code",
      "metadata": {
        "id": "8rAauAMIqGgY"
      },
      "source": [
        "import urllib\n",
        "url=\"https://github.com/jbinteam/010723305/blob/main/images/singapore-little-india.jpg?raw=true\"\n",
        "\n",
        "# image = ski_io.imread(url)\n",
        "url_response = urllib.request.urlopen(url)\n",
        "\n",
        "img_array = np.array(bytearray(url_response.read()), dtype=np.uint8)\n",
        "\n",
        "cv_img = cv2.imdecode(img_array, -1) # 'Load it as it is'\n",
        "\n",
        "# cv_img = img_as_ubyte(image) #แปลงข้อมูล unsigned byte เป็น image\n",
        "\n",
        "\n",
        "print(cv_img.shape) # แสดงค่า shape ของภาพ (size, channel)\n",
        "\n",
        "print(cv_img[0][0][0],cv_img[0][0][1],cv_img[0][0][2]) # แสดงค่า color intensity ที่ตำแหน่ง (0,0) ของแต่ละ channel\n",
        "\n",
        "plt.imshow(cv_img)\n",
        "plt.show()"
      ],
      "execution_count": null,
      "outputs": []
    },
    {
      "cell_type": "code",
      "metadata": {
        "id": "L9Ewv7ymqfwQ"
      },
      "source": [
        "import urllib.request,io\n",
        "path = io.BytesIO(urllib.request.urlopen(url).read())\n",
        "\n",
        "pil_img=Image.open(path) #load ข้อมูลภาพด้วย pillow\n",
        "\n",
        "#load ข้อมูล intensity สีของแต่ละ pixel\n",
        "px = pil_img.load()\n",
        "\n",
        "#แสดงค่า color intensity ตำแหน่ง [0,0] channel 0,1,2\n",
        "print(px[0,0])\n",
        "\n",
        "plt.imshow(pil_img)\n",
        "plt.show()"
      ],
      "execution_count": null,
      "outputs": []
    },
    {
      "cell_type": "markdown",
      "metadata": {
        "id": "IvZ5pmiPk9_o"
      },
      "source": [
        "## แบบฝึกหัดที่ 1.4\n",
        "\n",
        "**วัตถุประสงค์**\n",
        "- เรียนรู้การ load ภาพเข้ามาเป็นชุดข้อมูลรูปแบบ RGB, BGR, Grayscale\n",
        "\n",
        "**คำถาม:**\n",
        "- เมื่อ uncomment code ในหัวข้อย่อ 1.4.1 ถึง 1.4.4 หัวข้อใดยังสามารถทำงานได้หรือไม่ได้ เพราะอะไร\n",
        "\n"
      ]
    },
    {
      "cell_type": "code",
      "metadata": {
        "id": "FGX_tvlErI5-"
      },
      "source": [
        "gray_img = cv2.imdecode(img_array, cv2.IMREAD_GRAYSCALE) #load ข้อมูลเป็น grayscale\n",
        "color_img = cv2.imdecode(img_array, cv2.IMREAD_COLOR) #load ข้อมูลเป็น color\n",
        "\n",
        "#แสดงค่า　intensity สีของ pixel ตำแหน่งที่ [1,3] ของทั้ง 3 channel สี\n",
        "\n",
        "# print(gray_img[0][0][0],gray_img[0][0][1],gray_img[0][0][2]) # 1.4.1\n",
        "\n",
        "# print(gray_img.shape)\n",
        "# print(color_img.shape)\n",
        "\n",
        "#ทำการ stack data ก่อนนำมาแสดงผล\n",
        "images=np.hstack((color_img,color_img)) # 1.4.2\n",
        "# images=np.hstack((gray_img,gray_img)) # 1.4.3\n",
        "# images=np.hstack((color_img,gray_img)) # 1.4.4\n",
        "\n",
        "# images=cv2.cvtColor(images,cv2.COLOR_BGR2RGB) # ลองรันโปรแกรมแบบ　uncomment สลับกับ comment ในบรรทัดนี้ แล้วสังเกตผล\n",
        "\n",
        "#เลือกวิธีแสดงผลตามประเภทของข้อมูลที่โหลด\n",
        "# plt.imshow(images) #แสดงผลเป็นสี\n",
        "plt.imshow(images,'gray') #แสดงผลเป็น　grayscale\n",
        "plt.show()"
      ],
      "execution_count": null,
      "outputs": []
    }
  ]
}