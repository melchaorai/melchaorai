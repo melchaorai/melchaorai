{
  "nbformat": 4,
  "nbformat_minor": 0,
  "metadata": {
    "colab": {
      "name": "Homework2.ipynb",
      "provenance": [],
      "toc_visible": true,
      "include_colab_link": true
    },
    "kernelspec": {
      "name": "python3",
      "display_name": "Python 3"
    },
    "language_info": {
      "name": "python"
    }
  },
  "cells": [
    {
      "cell_type": "markdown",
      "metadata": {
        "id": "view-in-github",
        "colab_type": "text"
      },
      "source": [
        "<a href=\"https://colab.research.google.com/github/melchaorai/melchaorai/blob/main/Homework2.ipynb\" target=\"_parent\"><img src=\"https://colab.research.google.com/assets/colab-badge.svg\" alt=\"Open In Colab\"/></a>"
      ]
    },
    {
      "cell_type": "markdown",
      "metadata": {
        "id": "unnAVV60C1Yx"
      },
      "source": [
        "# การบ้านสัปดาห์ที่ 2\n",
        "- ความเข้าใจเกี่ยวกับ Color space, Psuedo color processing, Color transformation\n"
      ]
    },
    {
      "cell_type": "code",
      "metadata": {
        "id": "nW37ioGwXbni"
      },
      "source": [
        "#import required library\n",
        "from google.colab.patches import cv2_imshow\n",
        "import matplotlib.pylab as plt\n",
        "import math\n",
        "from skimage import io\n",
        "import cv2\n",
        "import numpy as np\n",
        "from skimage.util import img_as_ubyte"
      ],
      "execution_count": null,
      "outputs": []
    },
    {
      "cell_type": "markdown",
      "metadata": {
        "id": "WFzax2_3Ei5O"
      },
      "source": [
        "## แบบฝึกหัดที่ 2.1\n",
        "**วัตถุประสงค์**\n",
        "- เพื่อทดสอบความรู้ความเข้าใจในการแปลงภาพ gray-scale เป็นภาพสีโดยใช้เทคนิด intensity slicing and Pseudo-color processing\n",
        "\n",
        "**คำถาม:**\n",
        "\n",
        "2.1.1 ทำการ uncomment code ในหัวข้อที่ 2.1.1 แล้วรันโค๊ด สังเกตสีผลลัพธ์ที่ได้ พร้อมอธิบาย\n",
        "\n",
        "2.1.2 ทำการ uncomment code เพิ่มในส่วนของหัวข้อที่ 2.1.2 แล้วรันโค๊ดอีกครั้ง สังเกตสีผลลัพธ์ที่ได้ พร้อมอธิบาย\n",
        "\n",
        "**โจทย์:** ให้นักศึกษาทำการเขียนโปรแกรมจากโค๊ดตัวอย่างด้านล่างเพื่อเปลี่ยนภาพ gray scale เป็นภาพสีจำนวน 3 เฉดสีที่ไม่ใช่สีในโทน grayscale\n",
        "\n"
      ]
    },
    {
      "cell_type": "code",
      "metadata": {
        "id": "baXdY3mwFDOf"
      },
      "source": [
        "# การเปิดไฟล์ภาพผ่าน url\n",
        "urls=\"https://github.com/jbinteam/010723305/blob/main/images/Castle_reflecting_by_Gustave_Le_Gray.jpg?raw=true\"\n",
        "image = io.imread(urls)\n",
        "\n",
        "cv_img = img_as_ubyte(image) #แปลงข้อมูล unsigned byte เป็น image\n",
        "\n",
        "cv_img = cv2.cvtColor(cv_img,cv2.COLOR_RGB2BGR)\n",
        "\n",
        "processed_img=cv_img.copy() # copy ข้อมูลจากภาพ cv_img มาที่ processed_img\n",
        "# processed_img=np.where(processed_img<100,[0,255,0],processed_img) # เปลี่ยนค่า intensity ของ pixel ในตำแหน่งที่มีค่าน้อยกว่า 100 เป็น [0,255,0] # 2.1.1\n",
        "# processed_img=np.where(processed_img<150,[0,0,255],processed_img) # เปลี่ยนค่า intensity ของ pixel ในตำแหน่งที่มีค่าน้อยกว่า 150 เป็น [255,0,0] # 2.1.2\n",
        "\n",
        "# cv2_imshow(processed_img) #uncomment เพื่อแสดงผลลัพธ์จากการ process ภาพ\n",
        "cv2_imshow(cv_img) #uncomment เพื่อแสดงภาพต้นฉบับ"
      ],
      "execution_count": null,
      "outputs": []
    },
    {
      "cell_type": "markdown",
      "metadata": {
        "id": "GMC834EVE8dn"
      },
      "source": [
        "## แบบฝึกหัดที่ 2.2\n",
        "**วัตถุประสงค์**\n",
        "- การนำเทคนิคด้านสีของของ pixel ใน HSV space ไปใช้ในการตรวจจับสีที่ต้องการจากภาพที่กำหนด\n",
        "\n",
        "**คำถาม:**\n",
        "\n",
        "2.2.1 เพราะเหตุใดค่าที่กำหนดในโค๊ดบรรทัดนี้จึงต้องเป็นค่า 255 เป็นค่าอื่นได้หรือไม่\n",
        "\n",
        "2.2.2 อธิบายสิ่งการทำงานของโค๊ดในบรรทัดนี้\n",
        "\n",
        "**โจทย์:** ให้นักศึกษาทำการแก้ไขโค๊ดจากโปรแกรมตัวอย่างเพื่อทำการตรวจจับเฉพาะสีของดอกไม้ที่มีโทนสีชมพู\n"
      ]
    },
    {
      "cell_type": "code",
      "metadata": {
        "id": "yulu2I-FErAn"
      },
      "source": [
        "flower_urls=\"https://github.com/jbinteam/010723305/blob/main/images/flowers-mixed.jpg?raw=true\"\n",
        "flower_img = io.imread(flower_urls)\n",
        "\n",
        "original_img = img_as_ubyte(flower_img)\n",
        "\n",
        "flower_hsv = cv2.cvtColor(original_img,cv2.COLOR_RGB2HSV)\n",
        "\n",
        "upper_range_yellow=np.array([45,255,255]) # ค่าสูงสุดของ h,s และ v ที่ต้องการตรวจจับ\n",
        "lower_range_yellow=np.array([15,100,100]) # ค่าต่ำสุดของ h,s และ v ที่ต้องการตรวจจับ\n",
        "\n",
        "mask = cv2.inRange(flower_hsv,lower_range_yellow,upper_range_yellow) #สร้าง mask จากช่วง hsv ที่กำหนด\n",
        "mask_indices=np.where(mask==255) # 2.2.1\n",
        "output_image = np.zeros(original_img.shape, dtype = \"uint8\")\n",
        "output_image[mask_indices] = original_img[mask_indices] # 2.2.2\n",
        "\n",
        "\n",
        "rgb_img=cv2.cvtColor(output_image,cv2.COLOR_RGB2BGR)\n",
        "original_img=cv2.cvtColor(original_img,cv2.COLOR_RGB2BGR)\n",
        "\n",
        "images=np.hstack((original_img,rgb_img))\n",
        "\n",
        "cv2_imshow(images)\n",
        "# cv2_imshow(mask)"
      ],
      "execution_count": null,
      "outputs": []
    },
    {
      "cell_type": "markdown",
      "metadata": {
        "id": "bif9r99mTRCi"
      },
      "source": [
        "## แบบฝึกหัดที่ 2.3\n",
        "**วัตถุประสงค์**\n",
        "- เพื่อศึกษาและทำความเข้าใจเกี่ยวกับการปรับแต่งค่าสีของภาพ\n",
        "\n",
        "\n",
        "**โจทย์:**\n",
        "จากโค๊ดตัวอย่างด้านล่าง จงเขียนฟังชันส์เพื่อประมวลผลภาพดังต่อไปนี้\n",
        "\n",
        "2.3.1 เขียนฟังชันเพื่อลดโทนสีแดงของภาพลง 30%\n",
        "\n",
        "2.3.2 เขียนฟังชันเพื่อลดโทนสีน้ำเงินของภาพลง 30%\n",
        "\n",
        "2.3.3 เขียนฟังชันเพื่อลดความสว่างของภาพ (darken)\n",
        "\n",
        "2.3.4 เขียน posterize ฟังชันเพื่อจัดการสีตาม channel ที่ต้องการ\n",
        "\n",
        "**Hint: if pixel intensity > 128: pixel intensity = 255, else: pixel intensity =0**\n"
      ]
    },
    {
      "cell_type": "code",
      "metadata": {
        "id": "B0RhvpV2W38J"
      },
      "source": [
        "flower_urls=\"https://github.com/jbinteam/010723305/blob/main/images/flowers-mixed.jpg?raw=true\"\n",
        "flower_img = io.imread(flower_urls)\n",
        "\n",
        "original_img = img_as_ubyte(flower_img)\n",
        "original_img=cv2.cvtColor(original_img,cv2.COLOR_RGB2BGR)\n",
        "\n",
        "toner=np.array([0,0,1.0]) #BGR\n",
        "\n",
        "print(\"tonerShape:\",toner.shape)\n",
        "print(\"imageShape:\",original_img.shape)\n",
        "output=original_img*toner\n",
        "images=np.hstack((original_img,output))\n",
        "cv2_imshow(images)"
      ],
      "execution_count": null,
      "outputs": []
    },
    {
      "cell_type": "code",
      "metadata": {
        "id": "hKzey12n43t7"
      },
      "source": [
        "#2.3.1\n",
        "def decreaseRed(img):\n",
        "  processed_img=img.copy()\n",
        "  #write your code here\n",
        "\n",
        "\n",
        "  return processed_img\n",
        "\n",
        "#2.3.2\n",
        "def decreaseBlue(img):\n",
        "  processed_img=img.copy()\n",
        "  #write your code here\n",
        "\n",
        "\n",
        "  return processed_img\n",
        "\n",
        "#2.3.3\n",
        "def darken(img):\n",
        "  processed_img=img.copy()\n",
        "  #write your code here\n",
        "\n",
        "\n",
        "  return processed_img\n",
        "\n",
        "#2.3.4\n",
        "def posterizeColor(img,channel):\n",
        "  processed_img=img.copy()\n",
        "  #write your code here\n",
        "\n",
        "\n",
        "  return processed_img"
      ],
      "execution_count": null,
      "outputs": []
    }
  ]
}